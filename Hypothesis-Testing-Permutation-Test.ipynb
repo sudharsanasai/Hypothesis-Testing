{
 "cells": [
  {
   "cell_type": "markdown",
   "metadata": {},
   "source": [
    "# Hypothesis Testing - Permutation Tests"
   ]
  },
  {
   "cell_type": "code",
   "execution_count": 131,
   "metadata": {},
   "outputs": [],
   "source": [
    "import numpy as np\n",
    "import seaborn as sns\n",
    "from scipy.stats import percentileofscore"
   ]
  },
  {
   "cell_type": "markdown",
   "metadata": {},
   "source": [
    "Permutation tests are useful to test if two non-parametric data-series do not come from the same distribution.\n",
    "\n",
    "Null Hypothesis : The two data series come from the same distirbution\n",
    "\n",
    "Alternate Hypothesis : They come from different Distribution\n",
    "\n",
    "Below let us simulate two distributions.\n",
    "\n",
    "Distribution 1 :\n",
    "\n",
    "    Normal Distribution\n",
    "       Mean - 2\n",
    "       Standard Deviation - 5\n",
    "       Number of data points - 100\n",
    "        \n",
    "Distribution 2 :\n",
    "\n",
    "    Uniform Distribution\n",
    "        Min - 2\n",
    "        Max - 5\n",
    "        Number of Data Points - 30\n"
   ]
  },
  {
   "cell_type": "code",
   "execution_count": 143,
   "metadata": {},
   "outputs": [],
   "source": [
    "dist_1 = np.random.normal(2,5,100)\n",
    "dist_2 = np.random.uniform(2,5,10)"
   ]
  },
  {
   "cell_type": "markdown",
   "metadata": {},
   "source": [
    "The idea of the Permutation test is, if the two data series comes from the same distribution, Then the combined distribution of the dataset should not change with shuffling. \n",
    "\n",
    "# Write up required"
   ]
  },
  {
   "cell_type": "code",
   "execution_count": 144,
   "metadata": {},
   "outputs": [],
   "source": [
    "comb_dist = np.concatenate((dist_1,dist_2))\n",
    "\n",
    "perm_dist = comb_dist.copy()"
   ]
  },
  {
   "cell_type": "code",
   "execution_count": 145,
   "metadata": {},
   "outputs": [],
   "source": [
    "T_orig = comb_dist[:dist_1.shape[0]].mean() - comb_dist[dist_1.shape[0]:].mean()"
   ]
  },
  {
   "cell_type": "code",
   "execution_count": 146,
   "metadata": {},
   "outputs": [],
   "source": [
    "permutations = 2000\n",
    "np.random.shuffle(comb_dist)\n",
    "T = np.zeros(permutations)\n",
    "\n",
    "for i in range(permutations):\n",
    "    np.random.shuffle(perm_dist)\n",
    "    t = perm_dist[:dist_1.shape[0]].mean() - perm_dist[dist_1.shape[0]:].mean()\n",
    "    T[i] = t"
   ]
  },
  {
   "cell_type": "code",
   "execution_count": 147,
   "metadata": {},
   "outputs": [
    {
     "data": {
      "text/plain": [
       "24.8"
      ]
     },
     "execution_count": 147,
     "metadata": {},
     "output_type": "execute_result"
    }
   ],
   "source": [
    "percentileofscore(T,T_orig)"
   ]
  },
  {
   "cell_type": "code",
   "execution_count": 148,
   "metadata": {},
   "outputs": [
    {
     "data": {
      "text/plain": [
       "<matplotlib.axes._subplots.AxesSubplot at 0x7fd172117cd0>"
      ]
     },
     "execution_count": 148,
     "metadata": {},
     "output_type": "execute_result"
    },
    {
     "data": {
      "image/png": "[encoded data removed]",
      "text/plain": [
       "<Figure size 432x288 with 1 Axes>"
      ]
     },
     "metadata": {
      "needs_background": "light"
     },
     "output_type": "display_data"
    }
   ],
   "source": [
    "sns.distplot(T)"
   ]
  },
  {
   "cell_type": "code",
   "execution_count": 149,
   "metadata": {},
   "outputs": [],
   "source": [
    "np.random.shuffle(perm_dist)"
   ]
  },
  {
   "cell_type": "code",
   "execution_count": 150,
   "metadata": {},
   "outputs": [
    {
     "data": {
      "text/plain": [
       "2.585251045937554"
      ]
     },
     "execution_count": 150,
     "metadata": {},
     "output_type": "execute_result"
    }
   ],
   "source": [
    "perm_dist.mean()"
   ]
  },
  {
   "cell_type": "code",
   "execution_count": 151,
   "metadata": {},
   "outputs": [],
   "source": [
    "np.random.shuffle(comb_dist)"
   ]
  },
  {
   "cell_type": "code",
   "execution_count": null,
   "metadata": {},
   "outputs": [],
   "source": []
  },
  {
   "cell_type": "code",
   "execution_count": null,
   "metadata": {},
   "outputs": [],
   "source": []
  }
 ],
 "metadata": {
  "kernelspec": {
   "display_name": "Python 3",
   "language": "python",
   "name": "python3"
  },
  "language_info": {
   "codemirror_mode": {
    "name": "ipython",
    "version": 3
   },
   "file_extension": ".py",
   "mimetype": "text/x-python",
   "name": "python",
   "nbconvert_exporter": "python",
   "pygments_lexer": "ipython3",
   "version": "3.8.3"
  }
 },
 "nbformat": 4,
 "nbformat_minor": 4
}
